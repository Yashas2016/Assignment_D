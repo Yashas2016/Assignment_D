{
 "cells": [
  {
   "cell_type": "code",
   "execution_count": null,
   "metadata": {},
   "outputs": [],
   "source": [
    "# Assignment _3\n",
    "\n",
    "# 1) write a python program for opening file and Writting  'I Love Letsupgrade ', & close it.  Again read it and append some data to it.. \n",
    "\n",
    "\n",
    "abc=open(\"new.txt\",'r+')\n",
    "abc.write(\"I Love Letsupgrade\")\n",
    "abc.close()\n",
    "\n"
   ]
  },
  {
   "cell_type": "code",
   "execution_count": 17,
   "metadata": {
    "scrolled": true
   },
   "outputs": [
    {
     "name": "stdout",
     "output_type": "stream",
     "text": [
      "I Love Letsupgrade!  pleasure to joinMy pleasure to join  My pleasure to join  My pleasure  to join  My pleasureto join  My pleasure to join My pleasure to join My pleasure to join My pleasure to join My pleasure to join\n"
     ]
    }
   ],
   "source": [
    "abc=open(\"new.txt\", 'r') \n",
    "abc.read()\n",
    "abc.close()\n",
    "abc=open(\"new.txt\", 'a')\n",
    "abc.write(\" My pleasure to join\")\n",
    "abc.close()\n",
    "abc=open(\"new.txt\", 'r') \n",
    "print(abc.read())\n",
    "abc.close()"
   ]
  },
  {
   "cell_type": "code",
   "execution_count": 1,
   "metadata": {
    "scrolled": true
   },
   "outputs": [
    {
     "name": "stdout",
     "output_type": "stream",
     "text": [
      "Enter the number to find the factorial : 4\n"
     ]
    },
    {
     "data": {
      "text/plain": [
       "24"
      ]
     },
     "execution_count": 1,
     "metadata": {},
     "output_type": "execute_result"
    }
   ],
   "source": [
    "#  2) factorial program using a fact() function.. \n",
    "\n",
    "\n",
    "num=int(input(\"Enter the number to find the factorial : \"))\n",
    "def factorial ():\n",
    "        fact=1\n",
    "        for i in range(1,num+1):\n",
    "             fact=fact*i\n",
    "        return fact\n",
    "factorial()        \n"
   ]
  },
  {
   "cell_type": "code",
   "execution_count": null,
   "metadata": {},
   "outputs": [],
   "source": []
  }
 ],
 "metadata": {
  "kernelspec": {
   "display_name": "Python 3",
   "language": "python",
   "name": "python3"
  },
  "language_info": {
   "codemirror_mode": {
    "name": "ipython",
    "version": 3
   },
   "file_extension": ".py",
   "mimetype": "text/x-python",
   "name": "python",
   "nbconvert_exporter": "python",
   "pygments_lexer": "ipython3",
   "version": "3.8.3"
  }
 },
 "nbformat": 4,
 "nbformat_minor": 4
}
