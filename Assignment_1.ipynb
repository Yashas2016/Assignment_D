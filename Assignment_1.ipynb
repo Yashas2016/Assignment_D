{
 "cells": [
  {
   "cell_type": "code",
   "execution_count": 1,
   "metadata": {},
   "outputs": [
    {
     "name": "stdout",
     "output_type": "stream",
     "text": [
      "1\n",
      "Hello\n",
      "hello\n",
      "b'Hello'\n",
      "True\n"
     ]
    }
   ],
   "source": [
    "\n",
    "# 1)  5 String functions\n",
    "\n",
    "str='Hello'\n",
    "x=str.index('e')\n",
    "y=str.capitalize()\n",
    "z=str.casefold()\n",
    "a=str.encode()\n",
    "b=str.isalpha()\n",
    "print(x )\n",
    "print(y )\n",
    "print(z )\n",
    "print(a )\n",
    "print(b)"
   ]
  },
  {
   "cell_type": "code",
   "execution_count": null,
   "metadata": {},
   "outputs": [],
   "source": []
  },
  {
   "cell_type": "code",
   "execution_count": 4,
   "metadata": {},
   "outputs": [
    {
     "name": "stdout",
     "output_type": "stream",
     "text": [
      "['apple', 'cherry ', 'banana ', 'mango']\n",
      "['apple', 'banana ', 'cherry ', 'mango']\n",
      "['apple', 'banana ', 'orange', 'cherry ', 'mango']\n",
      "['mango', 'cherry ', 'orange', 'banana ', 'apple']\n",
      "['mango', 'cherry ', 'orange', 'apple']\n"
     ]
    }
   ],
   "source": [
    "# 2) List functions \n",
    "\n",
    "lst=['apple',  'cherry ', 'banana ']\n",
    "\n",
    "lst.append('mango')\n",
    "print(lst)\n",
    "\n",
    "lst.sort()\n",
    "print(lst)\n",
    "\n",
    "lst.insert(2,'orange') \n",
    "print(lst)\n",
    "\n",
    "lst.reverse()\n",
    "print(lst)\n",
    "\n",
    "lst.pop(3)\n",
    "print(lst)\n"
   ]
  },
  {
   "cell_type": "code",
   "execution_count": 9,
   "metadata": {},
   "outputs": [
    {
     "name": "stdout",
     "output_type": "stream",
     "text": [
      "ANC\n",
      "{'name': 'xyz', 'age': '22', 'place': 'ANC'}\n",
      "dict_keys(['name', 'age', 'place'])\n",
      "{'name': 'xyz', 'place': 'ANC'}\n",
      "{'name': 'xyz'}\n"
     ]
    }
   ],
   "source": [
    "# 3) Dictionary functions \n",
    "\n",
    "dict={ 'name' :'xyz',  'age':'22', 'place':'ANC'}\n",
    "\n",
    "x=dict.get('place')\n",
    "print(x)\n",
    "\n",
    "dict.items()\n",
    "print(dict)\n",
    "\n",
    "y=dict.keys()\n",
    "print(y)\n",
    "\n",
    "dict.pop('age')\n",
    "print(dict)\n",
    "\n",
    "dict.popitem()\n",
    "print(dict)\n"
   ]
  },
  {
   "cell_type": "code",
   "execution_count": null,
   "metadata": {},
   "outputs": [],
   "source": []
  },
  {
   "cell_type": "code",
   "execution_count": null,
   "metadata": {},
   "outputs": [],
   "source": []
  },
  {
   "cell_type": "code",
   "execution_count": null,
   "metadata": {},
   "outputs": [],
   "source": []
  },
  {
   "cell_type": "code",
   "execution_count": null,
   "metadata": {},
   "outputs": [],
   "source": []
  }
 ],
 "metadata": {
  "kernelspec": {
   "display_name": "Python 3",
   "language": "python",
   "name": "python3"
  },
  "language_info": {
   "codemirror_mode": {
    "name": "ipython",
    "version": 3
   },
   "file_extension": ".py",
   "mimetype": "text/x-python",
   "name": "python",
   "nbconvert_exporter": "python",
   "pygments_lexer": "ipython3",
   "version": "3.8.3"
  }
 },
 "nbformat": 4,
 "nbformat_minor": 4
}
