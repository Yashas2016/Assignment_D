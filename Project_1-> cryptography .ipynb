{
 "cells": [
  {
   "cell_type": "code",
   "execution_count": 1,
   "metadata": {},
   "outputs": [
    {
     "name": "stdout",
     "output_type": "stream",
     "text": [
      "Requirement already satisfied: cryptography in /data/data/ru.iiec.pydroid3/files/aarch64-linux-android/lib/python3.8/site-packages (3.3.1)\n",
      "Requirement already satisfied: six>=1.4.1 in /data/data/ru.iiec.pydroid3/files/aarch64-linux-android/lib/python3.8/site-packages (from cryptography) (1.15.0)\n",
      "Requirement already satisfied: cffi>=1.12 in /data/data/ru.iiec.pydroid3/files/aarch64-linux-android/lib/python3.8/site-packages (from cryptography) (1.14.4)\n",
      "Requirement already satisfied: pycparser in /data/data/ru.iiec.pydroid3/files/aarch64-linux-android/lib/python3.8/site-packages (from cffi>=1.12->cryptography) (2.20)\n",
      "\u001b[33mWARNING: You are using pip version 20.1.1; however, version 20.3.1 is available.\n",
      "You should consider upgrading via the '/data/user/0/ru.iiec.pydroid3/files/aarch64-linux-android/bin/python3.8 -m pip install --upgrade pip' command.\u001b[0m\n"
     ]
    }
   ],
   "source": [
    "!pip install cryptography"
   ]
  },
  {
   "cell_type": "code",
   "execution_count": 6,
   "metadata": {},
   "outputs": [],
   "source": [
    "from cryptography.fernet import Fernet \n",
    "\n",
    "def generateKey():\n",
    "    key=Fernet.generate_key()\n",
    "    print(key)\n",
    "    print(type(key))\n",
    "    abc=open(\"pwkey. key\",'wb') \n",
    "    abc.write(key)\n",
    "    abc.close()\n",
    "             "
   ]
  },
  {
   "cell_type": "code",
   "execution_count": 7,
   "metadata": {},
   "outputs": [
    {
     "name": "stdout",
     "output_type": "stream",
     "text": [
      "b'XAZT_lXG5RMk1GoqYg0ZHLpCLvnaYu5HEcBCDY-aHmo='\n",
      "<class 'bytes'>\n"
     ]
    }
   ],
   "source": [
    "generateKey()"
   ]
  },
  {
   "cell_type": "code",
   "execution_count": 8,
   "metadata": {},
   "outputs": [],
   "source": [
    "def getMyKey():\n",
    "    abc=open(\"pwkey. key\",'rb')\n",
    "    return abc.read()\n",
    "    "
   ]
  },
  {
   "cell_type": "code",
   "execution_count": 11,
   "metadata": {},
   "outputs": [],
   "source": [
    "def contentFromUser():\n",
    "    return input(\"enter message to encrypt :\")"
   ]
  },
  {
   "cell_type": "code",
   "execution_count": 9,
   "metadata": {
    "scrolled": false
   },
   "outputs": [
    {
     "data": {
      "text/plain": [
       "b'XAZT_lXG5RMk1GoqYg0ZHLpCLvnaYu5HEcBCDY-aHmo='"
      ]
     },
     "execution_count": 9,
     "metadata": {},
     "output_type": "execute_result"
    }
   ],
   "source": [
    "getMyKey()"
   ]
  },
  {
   "cell_type": "code",
   "execution_count": 12,
   "metadata": {},
   "outputs": [
    {
     "name": "stdout",
     "output_type": "stream",
     "text": [
      "enter message to encrypt :I am glad to join this python course \n"
     ]
    },
    {
     "data": {
      "text/plain": [
       "'I am glad to join this python course '"
      ]
     },
     "execution_count": 12,
     "metadata": {},
     "output_type": "execute_result"
    }
   ],
   "source": [
    "contentFromUser()"
   ]
  },
  {
   "cell_type": "code",
   "execution_count": 13,
   "metadata": {},
   "outputs": [],
   "source": [
    "def encrypted_msg(msg_normal):\n",
    "    key=getMyKey()\n",
    "    k=Fernet(key)\n",
    "    encr_msg=k.encrypt(msg_normal)\n",
    "    return encr_msg"
   ]
  },
  {
   "cell_type": "code",
   "execution_count": 14,
   "metadata": {},
   "outputs": [
    {
     "data": {
      "text/plain": [
       "b'gAAAAABf2QCsfkzWHiDxz2t1dzUsW922t4klwFRGLgegoEkMYfdbn9YhzfHIzASX0hjtcTelvFgTdYv9xHhFRzurYaaIOofzGQ=='"
      ]
     },
     "execution_count": 14,
     "metadata": {},
     "output_type": "execute_result"
    }
   ],
   "source": [
    "encrypted_msg(b'glad')"
   ]
  },
  {
   "cell_type": "code",
   "execution_count": 16,
   "metadata": {},
   "outputs": [],
   "source": [
    "def decrypted_msg(msg_secret):\n",
    "    key=getMyKey()\n",
    "    k=Fernet(key)\n",
    "    decr_msg=k.decrypt(msg_secret)\n",
    "    return decr_msg"
   ]
  },
  {
   "cell_type": "code",
   "execution_count": 17,
   "metadata": {},
   "outputs": [
    {
     "data": {
      "text/plain": [
       "b'glad'"
      ]
     },
     "execution_count": 17,
     "metadata": {},
     "output_type": "execute_result"
    }
   ],
   "source": [
    "decrypted_msg(\n",
    "b'gAAAAABf2QCsfkzWHiDxz2t1dzUsW922t4klwFRGLgegoEkMYfdbn9YhzfHIzASX0hjtcTelvFgTdYv9xHhFRzurYaaIOofzGQ==')\n",
    " "
   ]
  },
  {
   "cell_type": "code",
   "execution_count": null,
   "metadata": {},
   "outputs": [],
   "source": []
  },
  {
   "cell_type": "code",
   "execution_count": null,
   "metadata": {},
   "outputs": [],
   "source": []
  }
 ],
 "metadata": {
  "kernelspec": {
   "display_name": "Python 3",
   "language": "python",
   "name": "python3"
  },
  "language_info": {
   "codemirror_mode": {
    "name": "ipython",
    "version": 3
   },
   "file_extension": ".py",
   "mimetype": "text/x-python",
   "name": "python",
   "nbconvert_exporter": "python",
   "pygments_lexer": "ipython3",
   "version": "3.8.3"
  }
 },
 "nbformat": 4,
 "nbformat_minor": 4
}
